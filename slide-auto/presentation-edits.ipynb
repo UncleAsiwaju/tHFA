{
 "cells": [
  {
   "cell_type": "markdown",
   "metadata": {},
   "source": [
    "# Sample Notebook to edit PowerPoint slides with Python"
   ]
  },
  {
   "cell_type": "code",
   "execution_count": 190,
   "metadata": {},
   "outputs": [],
   "source": [
    "import pandas as pd\n",
    "import numpy as np\n",
    "import pptx\n",
    "from pptx import Presentation\n",
    "from pptx.enum.chart import XL_CHART_TYPE\n",
    "from pptx.util import Inches\n",
    "\n",
    "# Open an existing presentation\n",
    "prs = Presentation(r'../report/tHFA_Report_Ghana_(Analysis only).pptx')\n",
    "\n",
    "# Select the slide with the chart\n",
    "# slide = prs.slides[1]  # for example, selecting the first slide\n",
    "\n",
    "# # Select the chart within the slide\n",
    "# chart = slide.shapes[0].chart  # assuming the chart is the first shape on the slide\n",
    "\n",
    "# # Update the chart data\n",
    "# chart_data = chart.chart_data\n",
    "# chart_data.categories = ['Category 1', 'Category 2', 'Category 3']\n",
    "# chart_data.series[0].values = [1.1, 2.2, 3.3]\n",
    "# chart_data.series[1].values = [4.4, 5.5, 6.6]"
   ]
  },
  {
   "cell_type": "code",
   "execution_count": 147,
   "metadata": {},
   "outputs": [
    {
     "name": "stdout",
     "output_type": "stream",
     "text": [
      "Shape 26:\n",
      "  Type: PICTURE (13)\n",
      "  Name: Picture 4\n",
      "  Chart Type: COLUMN_STACKED (52)\n",
      "Shape 36:\n",
      "  Type: PICTURE (13)\n",
      "  Name: Picture 4\n",
      "  Chart Type: COLUMN_STACKED (52)\n",
      "Shape 37:\n",
      "  Type: PICTURE (13)\n",
      "  Name: Picture 4\n",
      "  Chart Type: COLUMN_STACKED (52)\n",
      "Shape 38:\n",
      "  Type: PICTURE (13)\n",
      "  Name: Picture 4\n",
      "  Chart Type: COLUMN_STACKED (52)\n",
      "Shape 39:\n",
      "  Type: PICTURE (13)\n",
      "  Name: Picture 4\n",
      "  Chart Type: COLUMN_STACKED (52)\n",
      "Shape 42:\n",
      "  Type: PICTURE (13)\n",
      "  Name: Picture 4\n",
      "  Chart Type: COLUMN_STACKED (52)\n",
      "Total number of shapes on slide 3: 44\n"
     ]
    }
   ],
   "source": [
    "# Select the slide to inspect (e.g., slide 15)\n",
    "slide_index = 2  # slide indices are 0-based\n",
    "slide = prs.slides[slide_index]\n",
    "\n",
    "# Iterate through the shapes on the slide and print details\n",
    "for i, shape in enumerate(slide.shapes):\n",
    "    # shape_type = shape.shape_type\n",
    "    # shape_name = shape.name\n",
    "    # print(f\"Shape {i}:\")\n",
    "    # print(f\"  Type: {shape_type}\")\n",
    "    # print(f\"  Name: {shape_name}\")\n",
    "\n",
    "    # if shape.has_text_frame:\n",
    "    #     # print(f\"Shape {i}:\")\n",
    "    #     # print(f\"  Type: {shape_type}\")\n",
    "    #     # print(f\"  Name: {shape_name}\")\n",
    "    #     text = shape.text_frame.text\n",
    "    #     print(f\"  Text: {text}\")\n",
    "    \n",
    "    if shape.has_chart:\n",
    "        print(f\"Shape {i}:\")\n",
    "        print(f\"  Type: {shape_type}\")\n",
    "        print(f\"  Name: {shape_name}\")\n",
    "        chart = shape.chart\n",
    "        chart_type = chart.chart_type\n",
    "        print(f\"  Chart Type: {chart_type}\")\n",
    " \n",
    "# Print the total number of shapes on the slide\n",
    "print(f\"Total number of shapes on slide {slide_index + 1}: {len(slide.shapes)}\")\n"
   ]
  },
  {
   "cell_type": "code",
   "execution_count": 191,
   "metadata": {},
   "outputs": [
    {
     "data": {
      "text/plain": [
       "'The tHFA in Ghana was conducted in 120 facilities selected from the country’s Master Facility List. The facilities were sampled using a combination of a stratified random approach and a purposive panel approach for selected tertiary and secondary facilities. \\n72 primary facilities, 39 secondary facilities, and 9 tertiary facilities were visited during this round. During each visit, the tHFA questionnaires were administered which included questions about the facility and its services; patient-exit interviews; and record reviews for TB, ANC, and HIV services. These questionnaire responses were then used to calculate facility performance on a scale of 100 for each of the 11 tHFA indicators.'"
      ]
     },
     "execution_count": 191,
     "metadata": {},
     "output_type": "execute_result"
    }
   ],
   "source": [
    "# Slide 1: Summary slide\n",
    "slide_index = 1  # slide indices are 0-based\n",
    "slide = prs.slides[slide_index]\n",
    "\n",
    "## Chart data changes\n",
    "summary_chart = slide.shapes[8].chart\n",
    "\n",
    "nums = np.array([100-vacncy,test,oxy,guide,clm,\n",
    "                                 chw_paid,fac_comp,sys_chw,\n",
    "                               htm, iss, hq])\n",
    "\n",
    "edit = pptx.chart.data.CategoryChartData()\n",
    "for i in range (1,12):\n",
    "    edit.add_category(f\"Value_{i}\")\n",
    "edit.add_series('Score', values=nums)\n",
    "edit.add_series('Rest', values=100 - nums)\n",
    "\n",
    "summary_chart.replace_data(edit)\n",
    "\n",
    "## Text changes\n",
    "summary = slide.shapes[31]\n",
    "target = summary.text_frame.paragraphs[1]\n",
    "target.runs[0].text = target.runs[0].text.replace('99', str(round(pri_num)))\n",
    "target.runs[2].text = target.runs[2].text.replace('15', str(round(sec_num)))\n",
    "target.runs[4].text = target.runs[4].text.replace('6', str(round(ter_num)))\n",
    "summary.text\n",
    "\n",
    "# insights = slide.shapes[32]\n",
    "# insights_targ = insights.text_frame.paragraphs[0]\n",
    "# insights_targ.runs[2].text = insights_targ.runs[2].text.replace('83', round(hiv_gen))"
   ]
  },
  {
   "cell_type": "code",
   "execution_count": 192,
   "metadata": {},
   "outputs": [
    {
     "name": "stdout",
     "output_type": "stream",
     "text": [
      "<pptx.chart.data.CategoryChartData object at 0x00000235055EC640>\n",
      "<pptx.chart.data.CategoryChartData object at 0x00000235055EEF40>\n",
      "<pptx.chart.data.CategoryChartData object at 0x000002350559E670>\n",
      "<pptx.chart.data.CategoryChartData object at 0x000002350559E640>\n",
      "<pptx.chart.data.CategoryChartData object at 0x00000235054B7A90>\n",
      "<pptx.chart.data.CategoryChartData object at 0x00000235054C84F0>\n"
     ]
    },
    {
     "data": {
      "text/plain": [
       "(57.142857142857146,\n",
       " 42.85714285714285,\n",
       " 100.0,\n",
       " 85.71428571428571,\n",
       " 71.42857142857143)"
      ]
     },
     "execution_count": 192,
     "metadata": {},
     "output_type": "execute_result"
    }
   ],
   "source": [
    "# Slide 2 - Service delivery\n",
    "slide_index = 2  # slide indices are 0-based\n",
    "slide = prs.slides[slide_index]\n",
    "\n",
    "rural = slide.shapes[26].chart\n",
    "peri_urban = slide.shapes[36].chart\n",
    "urban = slide.shapes[37].chart\n",
    "primary = slide.shapes[42].chart\n",
    "secondary = slide.shapes[39].chart\n",
    "tertiary = slide.shapes[38].chart\n",
    "\n",
    "old = [rural,peri_urban,urban,primary,secondary,tertiary]\n",
    "new = [serv_rural,serv_peri,serv_urban,serv_pri,serv_sec,serv_ter]\n",
    "\n",
    "for i in range(len(old)):\n",
    "    edit = pptx.chart.data.CategoryChartData()\n",
    "    for j in range (1,6):\n",
    "        edit.add_category(f\"Value_{j}\")\n",
    "    edit.add_series('series', values=new[i].values)\n",
    "    print(edit)\n",
    "    old[i].replace_data(edit)\n"
   ]
  },
  {
   "cell_type": "code",
   "execution_count": 185,
   "metadata": {},
   "outputs": [
    {
     "data": {
      "text/plain": [
       "array([ 57.14285714,  42.85714286, 100.        ,  85.71428571,\n",
       "        71.42857143])"
      ]
     },
     "execution_count": 185,
     "metadata": {},
     "output_type": "execute_result"
    }
   ],
   "source": [
    "serv_peri.values"
   ]
  },
  {
   "cell_type": "code",
   "execution_count": 183,
   "metadata": {},
   "outputs": [
    {
     "data": {
      "text/plain": [
       "(80.0, 60.0, 100.0, 100.0, 100.0)"
      ]
     },
     "execution_count": 183,
     "metadata": {},
     "output_type": "execute_result"
    }
   ],
   "source": [
    "peri_urban.series[0].values"
   ]
  },
  {
   "cell_type": "code",
   "execution_count": 106,
   "metadata": {},
   "outputs": [
    {
     "data": {
      "text/plain": [
       "'The tHFA in Gambia was conducted in 120 facilities selected from the country’s Master Facility List. The facilities were sampled using a combination of a stratified random approach and a purposive panel approach for selected tertiary and secondary facilities. \\n72 primary facilities, 39 secondary facilities, and 9 tertiary facilities were visited during this round. During each visit, the tHFA questionnaires were administered which included questions about the facility and its services; patient-exit interviews; and record reviews for TB, ANC, and HIV services. These questionnaire responses were then used to calculate facility performance on a scale of 100 for each of the 11 tHFA indicators.'"
      ]
     },
     "execution_count": 106,
     "metadata": {},
     "output_type": "execute_result"
    }
   ],
   "source": [
    "\n",
    "summary = f\"The tHFA in {country} was conducted in 120 facilities selected from the country’s Master Facility List. The facilities were sampled using a combination of a stratified random approach and a purposive panel approach for selected tertiary and secondary facilities. \\n{round(pri_num)} primary facilities, {round(sec_num)} secondary facilities, and {round(ter_num)} tertiary facilities were visited during this round. During each visit, the tHFA questionnaires were administered which included questions about the facility and its services; patient-exit interviews; and record reviews for TB, ANC, and HIV services. These questionnaire responses were then used to calculate facility performance on a scale of 100 for each of the 11 tHFA indicators.\"\n",
    "summary"
   ]
  },
  {
   "cell_type": "code",
   "execution_count": 129,
   "metadata": {},
   "outputs": [
    {
     "name": "stdout",
     "output_type": "stream",
     "text": [
      "83%, 55%, 98%, 90%,\n",
      "100%\n"
     ]
    }
   ],
   "source": [
    "insights = slide.shapes[32]\n",
    "for i in [2,4]:\n",
    "    print(insights.text_frame.paragraphs[0].runs[i].text)"
   ]
  },
  {
   "cell_type": "code",
   "execution_count": 141,
   "metadata": {},
   "outputs": [
    {
     "data": {
      "text/plain": [
       "['83%,', '55%,', '98%,', '90%,']"
      ]
     },
     "execution_count": 141,
     "metadata": {},
     "output_type": "execute_result"
    }
   ],
   "source": [
    "numbers = insights.text_frame.paragraphs[0].runs[2].text.split()\n",
    "numbers"
   ]
  },
  {
   "cell_type": "code",
   "execution_count": 121,
   "metadata": {},
   "outputs": [
    {
     "data": {
      "text/plain": [
       "'The tHFA in Ghana was conducted in 120 facilities selected from the country’s Master Facility List. The facilities were sampled using a combination of a stratified random approach and a purposive panel approach for selected tertiary and secondary facilities. \\n72 primary facilities, 39 secondary facilities, and 9 tertiary facilities were visited during this round. During each visit, the tHFA questionnaires were administered which included questions about the facility and its services; patient-exit interviews; and record reviews for TB, ANC, and HIV services. These questionnaire responses were then used to calculate facility performance on a scale of 100 for each of the 11 tHFA indicators.'"
      ]
     },
     "execution_count": 121,
     "metadata": {},
     "output_type": "execute_result"
    }
   ],
   "source": [
    "summary = slide.shapes[31]\n",
    "target = summary.text_frame.paragraphs[1]\n",
    "target.runs[0].text = target.runs[0].text.replace('99', str(round(pri_num)))\n",
    "target.runs[2].text = target.runs[2].text.replace('15', str(round(sec_num)))\n",
    "target.runs[4].text = target.runs[4].text.replace('6', str(round(ter_num)))\n",
    "summary.text\n"
   ]
  },
  {
   "cell_type": "code",
   "execution_count": 171,
   "metadata": {},
   "outputs": [
    {
     "data": {
      "text/plain": [
       "array([54.02298851, 32.18390805, 97.70114943, 57.47126437, 54.02298851])"
      ]
     },
     "execution_count": 171,
     "metadata": {},
     "output_type": "execute_result"
    }
   ],
   "source": [
    "ctry = 'gambia'\n",
    "pivot = pd.read_csv(\"../output/GMB/gambia_pivot_v2.4.csv\")\n",
    "pivot = pivot.set_index(['tHFA_A001','Q117'])\n",
    "pivot\n",
    "hq = pivot.loc[('COUNTRY','AVERAGE')]['Quality_Score']\n",
    "iss = pivot.loc[('COUNTRY','AVERAGE')]['iss_score']\n",
    "htm = pivot.loc[('COUNTRY','AVERAGE')]['HTM-ANC']\n",
    "sys_chw = pivot.loc[('COUNTRY','AVERAGE')]['system_CHW_score']\n",
    "fac_comp = pivot.loc[('COUNTRY','AVERAGE')]['facility_composite']\n",
    "chw_paid = pivot.loc[('COUNTRY','AVERAGE')]['CHW_paid']\n",
    "clm = pivot.loc[('COUNTRY','AVERAGE')]['CLM_score']\n",
    "guide = pivot.loc[('COUNTRY','AVERAGE')]['guideline_score']\n",
    "oxy = pivot.loc[('COUNTRY','AVERAGE')]['oxygen_score']\n",
    "test = pivot.loc[('COUNTRY','AVERAGE')]['test-capac']\n",
    "vacncy = pivot.loc[('COUNTRY','AVERAGE')]['vacancy_score']\n",
    "pri_num = pivot.loc[('PRIMARY','General')]['Facility count']\n",
    "sec_num = pivot.loc[('SECONDARY','General')]['Facility count']\n",
    "ter_num = pivot.loc[('TERTIARY','General')]['Facility count']\n",
    "country = ctry.title()\n",
    "hiv_gen = pivot.loc[('COUNTRY','AVERAGE')]['HIV']\n",
    "tb_gen = pivot.loc[('COUNTRY','AVERAGE')]['TB']\n",
    "malaria_gen = pivot.loc[('COUNTRY','AVERAGE')]['Malaria']\n",
    "anc_gen = pivot.loc[('COUNTRY','AVERAGE')]['ANC']\n",
    "immu_gen = pivot.loc[('COUNTRY','AVERAGE')]['Immu']\n",
    "serv_rural = pivot.loc[('RURAL','General')]['HIV':'Immu']\n",
    "serv_peri = pivot.loc[('PERIURBAN','General')]['HIV':'Immu']\n",
    "serv_urban = pivot.loc[('URBAN','General')]['HIV':'Immu']\n",
    "serv_pri = pivot.loc[('PRIMARY','General')]['HIV':'Immu']\n",
    "serv_sec = pivot.loc[('SECONDARY','General')]['HIV':'Immu']\n",
    "serv_ter = pivot.loc[('TERTIARY','General')]['HIV':'Immu']\n",
    "\n",
    "serv_rural.values"
   ]
  },
  {
   "cell_type": "code",
   "execution_count": 6,
   "metadata": {},
   "outputs": [
    {
     "ename": "AttributeError",
     "evalue": "'Shape' object has no attribute 'chart'",
     "output_type": "error",
     "traceback": [
      "\u001b[1;31m---------------------------------------------------------------------------\u001b[0m",
      "\u001b[1;31mAttributeError\u001b[0m                            Traceback (most recent call last)",
      "Cell \u001b[1;32mIn[6], line 10\u001b[0m\n\u001b[0;32m      8\u001b[0m chart_data\u001b[38;5;241m.\u001b[39mcategories \u001b[38;5;241m=\u001b[39m [\u001b[38;5;124m'\u001b[39m\u001b[38;5;124mscore\u001b[39m\u001b[38;5;124m'\u001b[39m, \u001b[38;5;124m'\u001b[39m\u001b[38;5;124mrest\u001b[39m\u001b[38;5;124m'\u001b[39m]\n\u001b[0;32m      9\u001b[0m chart_data\u001b[38;5;241m.\u001b[39madd_series(\u001b[38;5;124m'\u001b[39m\u001b[38;5;124mSeries 1\u001b[39m\u001b[38;5;124m'\u001b[39m, (score, rest,))\n\u001b[1;32m---> 10\u001b[0m donut \u001b[38;5;241m=\u001b[39m \u001b[43mslide\u001b[49m\u001b[38;5;241;43m.\u001b[39;49m\u001b[43mshapes\u001b[49m\u001b[43m[\u001b[49m\u001b[38;5;241;43m14\u001b[39;49m\u001b[43m]\u001b[49m\u001b[38;5;241;43m.\u001b[39;49m\u001b[43mchart\u001b[49m\n\u001b[0;32m     11\u001b[0m donut\u001b[38;5;241m.\u001b[39mreplace_data(chart_data)\n",
      "\u001b[1;31mAttributeError\u001b[0m: 'Shape' object has no attribute 'chart'"
     ]
    }
   ],
   "source": [
    "import pptx.chart\n",
    "import pptx.chart.data\n",
    "\n",
    "score = see\n",
    "rest = 100 - score\n",
    "\n",
    "chart_data = pptx.chart.data.CategoryChartData()\n",
    "chart_data.categories = ['score', 'rest']\n",
    "chart_data.add_series('Series 1', (score, rest,))\n",
    "donut = slide.shapes[14].chart\n",
    "donut.replace_data(chart_data)"
   ]
  },
  {
   "cell_type": "code",
   "execution_count": null,
   "metadata": {},
   "outputs": [],
   "source": [
    "number = slide.shapes[17]\n",
    "value = number.text_frame.paragraphs[0].runs[0].text\n",
    "number.text_frame.paragraphs[0].runs[0].text = str(round(score))\n",
    "\n",
    "\n",
    "print(f\"Old value was {value}, but the new number is {number.text_frame.paragraphs[0].text}\")"
   ]
  },
  {
   "cell_type": "code",
   "execution_count": 193,
   "metadata": {},
   "outputs": [],
   "source": [
    "prs.save('../report/changes-summary-chart.pptx')"
   ]
  },
  {
   "cell_type": "markdown",
   "metadata": {},
   "source": [
    "## Old not working stuff"
   ]
  },
  {
   "cell_type": "code",
   "execution_count": null,
   "metadata": {},
   "outputs": [],
   "source": [
    "text_runs = []\n",
    "\n",
    "for slide in prs.slides:\n",
    "    for shape in slide.shapes:\n",
    "        if not shape.has_text_frame:\n",
    "            continue\n",
    "        for paragraph in shape.text_frame.paragraphs:\n",
    "            for run in paragraph.runs:\n",
    "                text_runs.append(run.text)\n",
    "\n",
    "text_runs"
   ]
  },
  {
   "cell_type": "code",
   "execution_count": 11,
   "metadata": {},
   "outputs": [
    {
     "ename": "AttributeError",
     "evalue": "'Chart' object has no attribute 'chart_data'",
     "output_type": "error",
     "traceback": [
      "\u001b[1;31m---------------------------------------------------------------------------\u001b[0m",
      "\u001b[1;31mAttributeError\u001b[0m                            Traceback (most recent call last)",
      "Cell \u001b[1;32mIn[11], line 8\u001b[0m\n\u001b[0;32m      5\u001b[0m         \u001b[38;5;28;01mbreak\u001b[39;00m\n\u001b[0;32m      7\u001b[0m \u001b[38;5;28;01mif\u001b[39;00m chart \u001b[38;5;129;01mis\u001b[39;00m \u001b[38;5;129;01mnot\u001b[39;00m \u001b[38;5;28;01mNone\u001b[39;00m:\n\u001b[1;32m----> 8\u001b[0m     chart_data \u001b[38;5;241m=\u001b[39m \u001b[43mchart\u001b[49m\u001b[38;5;241;43m.\u001b[39;49m\u001b[43mchart_data\u001b[49m\n\u001b[0;32m      9\u001b[0m     \u001b[38;5;28;01mfor\u001b[39;00m series \u001b[38;5;129;01min\u001b[39;00m chart_data\u001b[38;5;241m.\u001b[39mseries:\n\u001b[0;32m     10\u001b[0m         \u001b[38;5;28mprint\u001b[39m(\u001b[38;5;124mf\u001b[39m\u001b[38;5;124m\"\u001b[39m\u001b[38;5;124mSeries name: \u001b[39m\u001b[38;5;132;01m{\u001b[39;00mseries\u001b[38;5;241m.\u001b[39mname\u001b[38;5;132;01m}\u001b[39;00m\u001b[38;5;124m\"\u001b[39m)\n",
      "\u001b[1;31mAttributeError\u001b[0m: 'Chart' object has no attribute 'chart_data'"
     ]
    }
   ],
   "source": [
    "chart = None\n",
    "for shape in slide.shapes:\n",
    "    if shape.has_chart:\n",
    "        chart = shape.chart\n",
    "        break\n",
    "\n",
    "if chart is not None:\n",
    "    chart_data = chart.chart_data\n",
    "    for series in chart_data.series:\n",
    "        print(f\"Series name: {series.name}\")\n",
    "        for point in series.points:\n",
    "            print(f\"  Value: {point.value}\")\n",
    "\n",
    "    for i, category in enumerate(chart_data.categories):\n",
    "        print(f\"Category {i}: {category.label}\")\n",
    "else:\n",
    "    print(\"No chart found on the slide.\")"
   ]
  },
  {
   "cell_type": "code",
   "execution_count": null,
   "metadata": {},
   "outputs": [],
   "source": [
    "\n",
    "# Add a new series to the chart\n",
    "new_series = chart_data.add_series('New Series', (7.7, 8.8, 9.9))\n",
    "\n",
    "# Save the updated presentation\n",
    "prs.save('path/to/your/updated_presentation.pptx')\n"
   ]
  },
  {
   "cell_type": "code",
   "execution_count": null,
   "metadata": {},
   "outputs": [],
   "source": []
  }
 ],
 "metadata": {
  "kernelspec": {
   "display_name": "Python 3",
   "language": "python",
   "name": "python3"
  },
  "language_info": {
   "codemirror_mode": {
    "name": "ipython",
    "version": 3
   },
   "file_extension": ".py",
   "mimetype": "text/x-python",
   "name": "python",
   "nbconvert_exporter": "python",
   "pygments_lexer": "ipython3",
   "version": "3.9.10"
  }
 },
 "nbformat": 4,
 "nbformat_minor": 2
}
